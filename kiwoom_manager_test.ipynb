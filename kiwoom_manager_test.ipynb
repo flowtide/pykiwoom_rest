{
 "cells": [
  {
   "cell_type": "code",
   "execution_count": 1,
   "metadata": {},
   "outputs": [],
   "source": [
    "import pandas as pd\n",
    "import pykiwoom\n",
    "from ohlcv.ohlcv_def import MinuteDF, MinuteTicks\n"
   ]
  },
  {
   "cell_type": "code",
   "execution_count": 2,
   "metadata": {},
   "outputs": [],
   "source": [
    "km = pykiwoom.KiwoomManager()"
   ]
  },
  {
   "cell_type": "code",
   "execution_count": 19,
   "metadata": {},
   "outputs": [],
   "source": [
    "symbol = '017860'\n",
    "tick = 5\n",
    "tr_cmd = {\n",
    "    'rqname': \"opt10080\",\n",
    "    'trcode': 'opt10080',\n",
    "    'next': '0',\n",
    "    'screen': '1000',\n",
    "    'input': {\n",
    "        \"종목코드\": symbol,\n",
    "        \"틱범위\": tick,\n",
    "        \"수정주가구분\": 0,\n",
    "    },\n",
    "    'output': MinuteDF.column_names\n",
    "}\n",
    "\n",
    "km.put_tr(tr_cmd)\n",
    "df, remain = km.get_tr()"
   ]
  },
  {
   "cell_type": "code",
   "execution_count": 20,
   "metadata": {},
   "outputs": [],
   "source": [
    "df = MinuteDF.preprocess_data(df)"
   ]
  },
  {
   "cell_type": "code",
   "execution_count": 22,
   "metadata": {},
   "outputs": [],
   "source": [
    "df.to_csv('DS단석.csv', index=False)"
   ]
  },
  {
   "cell_type": "code",
   "execution_count": 10,
   "metadata": {},
   "outputs": [
    {
     "data": {
      "text/plain": [
       "Index(['체결시간', '시가'], dtype='object')"
      ]
     },
     "execution_count": 10,
     "metadata": {},
     "output_type": "execute_result"
    }
   ],
   "source": [
    "df.columns"
   ]
  }
 ],
 "metadata": {
  "kernelspec": {
   "display_name": "py37_32",
   "language": "python",
   "name": "python3"
  },
  "language_info": {
   "codemirror_mode": {
    "name": "ipython",
    "version": 3
   },
   "file_extension": ".py",
   "mimetype": "text/x-python",
   "name": "python",
   "nbconvert_exporter": "python",
   "pygments_lexer": "ipython3",
   "version": "3.10.4"
  }
 },
 "nbformat": 4,
 "nbformat_minor": 2
}
